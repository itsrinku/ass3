{
 "cells": [
  {
   "cell_type": "code",
   "execution_count": 1,
   "id": "76d94dc8-5636-4974-bf59-9edd47c8c8f2",
   "metadata": {},
   "outputs": [],
   "source": [
    "# ans1\n"
   ]
  },
  {
   "cell_type": "code",
   "execution_count": 2,
   "id": "4c17448f-36a3-4687-9904-23546f03239c",
   "metadata": {},
   "outputs": [],
   "source": [
    "#def keywor is used to create a function"
   ]
  },
  {
   "cell_type": "code",
   "execution_count": 3,
   "id": "51828af0-70a8-4fd3-bb82-161cee806133",
   "metadata": {},
   "outputs": [],
   "source": [
    "def list_oddno():\n",
    "    l1=[]\n",
    "    for i in range(0,26):\n",
    "        if i%2==1:\n",
    "            l1.append(i)\n",
    "    return l1         "
   ]
  },
  {
   "cell_type": "code",
   "execution_count": 4,
   "id": "912ac4a5-0676-437d-b3f9-e4967e56deac",
   "metadata": {},
   "outputs": [
    {
     "data": {
      "text/plain": [
       "[1, 3, 5, 7, 9, 11, 13, 15, 17, 19, 21, 23, 25]"
      ]
     },
     "execution_count": 4,
     "metadata": {},
     "output_type": "execute_result"
    }
   ],
   "source": [
    "list_oddno()"
   ]
  },
  {
   "cell_type": "code",
   "execution_count": 6,
   "id": "44f20af3-3d3e-428a-b12d-39aa0b37d32a",
   "metadata": {},
   "outputs": [],
   "source": [
    "# ans2\n"
   ]
  },
  {
   "cell_type": "code",
   "execution_count": 1,
   "id": "e95b5003-b0cd-46a4-a444-3be5865b04da",
   "metadata": {},
   "outputs": [],
   "source": [
    "#You can use *args and **kwargs as arguments of a function when you are unsure about the number of arguments to pass in the functions."
   ]
  },
  {
   "cell_type": "code",
   "execution_count": 2,
   "id": "a02eddd9-b9ec-4ebe-ac45-e47f15c337eb",
   "metadata": {},
   "outputs": [],
   "source": [
    "# return type of *args is tuple and *kwargs is dictionary"
   ]
  },
  {
   "cell_type": "code",
   "execution_count": 16,
   "id": "6f73fc10-1e9b-4516-920f-a515b63ec50c",
   "metadata": {},
   "outputs": [],
   "source": [
    "# addition of multiple numbers as input\n",
    "def add(*args):\n",
    "    a=0\n",
    "    for i in args:\n",
    "        a+=i\n",
    "    return a    "
   ]
  },
  {
   "cell_type": "code",
   "execution_count": 18,
   "id": "b5fa0951-a214-4ae5-a32b-562176b72872",
   "metadata": {},
   "outputs": [
    {
     "data": {
      "text/plain": [
       "697"
      ]
     },
     "execution_count": 18,
     "metadata": {},
     "output_type": "execute_result"
    }
   ],
   "source": [
    "add(1,2,3,4,687)"
   ]
  },
  {
   "cell_type": "code",
   "execution_count": 19,
   "id": "fe0a5736-3df8-4317-bfbb-35ed3bb479a3",
   "metadata": {},
   "outputs": [],
   "source": [
    "def total_bill(**kwargs):\n",
    "    total=0\n",
    "    for i in kwargs.values():\n",
    "        total+=i\n",
    "    return total   "
   ]
  },
  {
   "cell_type": "code",
   "execution_count": 20,
   "id": "9d11687a-699e-4e63-a21b-1b5a8d0cc93b",
   "metadata": {},
   "outputs": [
    {
     "data": {
      "text/plain": [
       "125"
      ]
     },
     "execution_count": 20,
     "metadata": {},
     "output_type": "execute_result"
    }
   ],
   "source": [
    "total_bill(mango=30,apple=50,sugar=45)"
   ]
  },
  {
   "cell_type": "code",
   "execution_count": null,
   "id": "a09fc373-8cfc-49a2-8666-5dca3f6dddcf",
   "metadata": {},
   "outputs": [],
   "source": []
  },
  {
   "cell_type": "code",
   "execution_count": 22,
   "id": "c5d2ba36-a1af-4a1c-8a4b-6c4dbb370615",
   "metadata": {},
   "outputs": [],
   "source": [
    "# ans3\n"
   ]
  },
  {
   "cell_type": "code",
   "execution_count": 1,
   "id": "90640537-7a08-484b-94cc-d1688213d33c",
   "metadata": {},
   "outputs": [],
   "source": [
    "#An iterator is an object that contains a countable number of values. \n",
    "#An iterator is an object that can be iterated upon, meaning that you can traverse through all the values. \n",
    "#Technically, in Python, an iterator is an object which implements the iterator protocol, which consist of the methods __iter__() and __next__() ."
   ]
  },
  {
   "cell_type": "code",
   "execution_count": 4,
   "id": "5bfae37c-133e-484a-aaa2-616c2801145e",
   "metadata": {},
   "outputs": [
    {
     "name": "stdout",
     "output_type": "stream",
     "text": [
      "2\n",
      "4\n",
      "6\n",
      "8\n",
      "10\n"
     ]
    }
   ],
   "source": [
    "l=iter([2,4,6,8,10,12,14,16,18,20])\n",
    "for i in range(5):\n",
    "    print(next(l))\n"
   ]
  },
  {
   "cell_type": "code",
   "execution_count": 5,
   "id": "daaff0db-318e-4d03-9358-a027f1701398",
   "metadata": {},
   "outputs": [],
   "source": [
    "# ans4\n"
   ]
  },
  {
   "cell_type": "code",
   "execution_count": 6,
   "id": "9beaebe3-b641-4c5e-b64d-b9f38424c7da",
   "metadata": {},
   "outputs": [],
   "source": [
    "#The yield keyword is used to produce a value from the generator and pause the generator function's execution until the next value is requested. The for loop iterates over the generator object produced by my_generator() , and the print statement prints each value produced by the generator."
   ]
  },
  {
   "cell_type": "code",
   "execution_count": 25,
   "id": "99465ff5-c53a-4747-a11c-b63e6de22dc8",
   "metadata": {},
   "outputs": [],
   "source": [
    "def add__(*args):\n",
    "    sum=0\n",
    "    for i in args:\n",
    "        sum+=i\n",
    "        yield sum    \n",
    "        "
   ]
  },
  {
   "cell_type": "code",
   "execution_count": 26,
   "id": "19e62dcc-b3ab-420e-a7eb-41bbb6c810ea",
   "metadata": {},
   "outputs": [],
   "source": [
    "addition=add__(1,2,3,4,5,6,7,8,9)"
   ]
  },
  {
   "cell_type": "code",
   "execution_count": 27,
   "id": "6ca9d259-b93b-4fbf-81d3-a851f2c8a33b",
   "metadata": {
    "tags": []
   },
   "outputs": [
    {
     "name": "stdout",
     "output_type": "stream",
     "text": [
      "1\n",
      "3\n",
      "6\n",
      "10\n",
      "15\n",
      "21\n",
      "28\n",
      "36\n",
      "45\n"
     ]
    }
   ],
   "source": [
    "for i in add__(1,2,3,4,5,6,7,8,9):\n",
    "    print(i)"
   ]
  },
  {
   "cell_type": "code",
   "execution_count": 28,
   "id": "5c4100ec-6692-4f3f-94f4-1d634501ac5d",
   "metadata": {},
   "outputs": [
    {
     "name": "stdout",
     "output_type": "stream",
     "text": [
      "1\n",
      "3\n",
      "6\n",
      "10\n",
      "15\n",
      "21\n",
      "28\n",
      "36\n",
      "45\n"
     ]
    }
   ],
   "source": [
    "for i in range(9):\n",
    "    print(next(addition))"
   ]
  },
  {
   "cell_type": "code",
   "execution_count": 29,
   "id": "474047bf-d0c7-46da-abf4-7a8cfcad1f93",
   "metadata": {},
   "outputs": [
    {
     "name": "stdout",
     "output_type": "stream",
     "text": [
      "1\n",
      "1\n",
      "1\n",
      "1\n",
      "1\n",
      "1\n",
      "1\n",
      "1\n",
      "1\n"
     ]
    }
   ],
   "source": [
    "for i in range(9):\n",
    "    print(next(add__(1,2,3,4,5,6,7,8,9)))"
   ]
  },
  {
   "cell_type": "code",
   "execution_count": 30,
   "id": "21e222ff-eb39-4e46-ab2e-417977ec27f4",
   "metadata": {},
   "outputs": [],
   "source": [
    "#ans5\n"
   ]
  },
  {
   "cell_type": "code",
   "execution_count": 39,
   "id": "21b61bfa-067e-42a5-9ff9-5e05fb49e08d",
   "metadata": {},
   "outputs": [],
   "source": [
    "l=[]\n",
    "for i in range(2,1000):\n",
    "    l.append(i)\n",
    "    \n",
    "    \n",
    "    "
   ]
  },
  {
   "cell_type": "code",
   "execution_count": 40,
   "id": "3882efec-4dc7-4697-a1c0-30f04bc59b44",
   "metadata": {},
   "outputs": [],
   "source": [
    "def prime_no(l):\n",
    "    for i in l:\n",
    "        flag=0\n",
    "        m=int(i/2)+1\n",
    "        for j in range(2,m):\n",
    "            if i%j==0:\n",
    "                flag=1\n",
    "                break\n",
    "        if flag==0:\n",
    "            yield i\n",
    "            "
   ]
  },
  {
   "cell_type": "code",
   "execution_count": 41,
   "id": "6942c260-bda3-4138-a602-f685e6ce5fdd",
   "metadata": {},
   "outputs": [],
   "source": [
    "p=prime_no(l)"
   ]
  },
  {
   "cell_type": "code",
   "execution_count": 42,
   "id": "5b7fdb26-df91-4bad-90e5-967cd25730e5",
   "metadata": {},
   "outputs": [
    {
     "name": "stdout",
     "output_type": "stream",
     "text": [
      "2\n",
      "3\n",
      "5\n",
      "7\n",
      "11\n",
      "13\n",
      "17\n",
      "19\n",
      "23\n",
      "29\n",
      "31\n",
      "37\n",
      "41\n",
      "43\n",
      "47\n",
      "53\n",
      "59\n",
      "61\n",
      "67\n",
      "71\n"
     ]
    }
   ],
   "source": [
    "for i in range(20):\n",
    "    print(next(p))"
   ]
  },
  {
   "cell_type": "code",
   "execution_count": null,
   "id": "d7fe1191-8928-4762-b57b-a0b4a1f4b8ed",
   "metadata": {},
   "outputs": [],
   "source": []
  },
  {
   "cell_type": "code",
   "execution_count": null,
   "id": "64a3a4a5-5db0-4a31-83bb-17a835c08e8a",
   "metadata": {},
   "outputs": [],
   "source": []
  },
  {
   "cell_type": "code",
   "execution_count": null,
   "id": "ecef3d82-9bb7-4fe0-a85b-58b1bf3caafb",
   "metadata": {},
   "outputs": [],
   "source": []
  },
  {
   "cell_type": "code",
   "execution_count": null,
   "id": "95d47c18-dcfb-476e-9318-2e6fd4fc546f",
   "metadata": {},
   "outputs": [],
   "source": []
  },
  {
   "cell_type": "code",
   "execution_count": null,
   "id": "49d5d673-e5d2-42dd-9818-317f0b217947",
   "metadata": {},
   "outputs": [],
   "source": []
  },
  {
   "cell_type": "code",
   "execution_count": null,
   "id": "f919381a-afb8-443d-bec1-aea5118c1e15",
   "metadata": {},
   "outputs": [],
   "source": []
  },
  {
   "cell_type": "code",
   "execution_count": null,
   "id": "8a1c24f4-d689-438a-a3a3-1f74bf048d15",
   "metadata": {},
   "outputs": [],
   "source": []
  },
  {
   "cell_type": "code",
   "execution_count": 109,
   "id": "1768246b-3d4d-4647-965b-ea687cc47dc5",
   "metadata": {},
   "outputs": [],
   "source": [
    "#ans6\n"
   ]
  },
  {
   "cell_type": "code",
   "execution_count": 3,
   "id": "ef5cf3b2-de3b-4f70-ad3a-f672166b6685",
   "metadata": {
    "tags": []
   },
   "outputs": [
    {
     "name": "stdin",
     "output_type": "stream",
     "text": [
      "enter first value of fibbonacci series 0\n",
      "enter second value of fibbonacci series 1\n"
     ]
    },
    {
     "name": "stdout",
     "output_type": "stream",
     "text": [
      "0\n",
      "1\n",
      "1\n",
      "2\n",
      "3\n",
      "5\n",
      "8\n",
      "13\n",
      "21\n",
      "34\n"
     ]
    }
   ],
   "source": [
    "a=int(input(\"enter first value of fibbonacci series\"))\n",
    "b=int(input(\"enter second value of fibbonacci series\"))\n",
    "n=10\n",
    "i=0\n",
    "while(i<n):\n",
    "    print(a)\n",
    "    a,b=b,a+b\n",
    "    \n",
    "    i+=1\n",
    "    \n",
    "    \n",
    "    \n",
    "    "
   ]
  },
  {
   "cell_type": "code",
   "execution_count": 117,
   "id": "6c535985-1427-4675-972f-171981c65318",
   "metadata": {},
   "outputs": [],
   "source": [
    "# ans 7\n"
   ]
  },
  {
   "cell_type": "code",
   "execution_count": 118,
   "id": "0ae84edc-c1be-4235-8b21-b8554aeb4bcc",
   "metadata": {},
   "outputs": [
    {
     "data": {
      "text/plain": [
       "['p', 'w', 's', 'k', 'i', 'l', 'l', 's']"
      ]
     },
     "execution_count": 118,
     "metadata": {},
     "output_type": "execute_result"
    }
   ],
   "source": [
    "s=\"pwskills\"\n",
    "[i  for i in s]"
   ]
  },
  {
   "cell_type": "code",
   "execution_count": 5,
   "id": "beacede8-2fa5-4eca-a551-336c815382de",
   "metadata": {},
   "outputs": [],
   "source": [
    "# ans 8\n"
   ]
  },
  {
   "cell_type": "code",
   "execution_count": 6,
   "id": "eab51b8a-3996-4b1f-971a-b5224bf551c5",
   "metadata": {},
   "outputs": [
    {
     "name": "stdin",
     "output_type": "stream",
     "text": [
      "enter the no:  122223454322221\n"
     ]
    },
    {
     "name": "stdout",
     "output_type": "stream",
     "text": [
      "given no is palindrome\n"
     ]
    }
   ],
   "source": [
    "s=input(\"enter the no: \")\n",
    "r=s[::-1]\n",
    "i=0\n",
    "flag=0\n",
    "j=int(len(s)/2)\n",
    "while(i<=j):\n",
    "    if r[i]==s[i]:\n",
    "        flag=1\n",
    "    else:\n",
    "        flag=0\n",
    "        break\n",
    "    i+=1    \n",
    "if flag==1:\n",
    "    print(\"given no is palindrome\")\n",
    "else:\n",
    "    print(\"given no is not palindrome\")\n",
    "    "
   ]
  },
  {
   "cell_type": "code",
   "execution_count": null,
   "id": "305eb3c2-56b0-4d38-bb88-7bd37272e651",
   "metadata": {},
   "outputs": [],
   "source": []
  },
  {
   "cell_type": "code",
   "execution_count": null,
   "id": "ba3a2ea0-8fce-4a96-b9b1-6e9820473966",
   "metadata": {},
   "outputs": [],
   "source": []
  },
  {
   "cell_type": "code",
   "execution_count": null,
   "id": "66b26841-4fdd-47d5-899e-0272af11b923",
   "metadata": {},
   "outputs": [],
   "source": []
  },
  {
   "cell_type": "code",
   "execution_count": null,
   "id": "265d63e4-2b4d-4fa3-a461-a2509d97dc48",
   "metadata": {},
   "outputs": [],
   "source": []
  },
  {
   "cell_type": "code",
   "execution_count": 6,
   "id": "6f544229-1387-4d76-9e4e-77dc05d93541",
   "metadata": {},
   "outputs": [],
   "source": [
    "# ans 9\n"
   ]
  },
  {
   "cell_type": "code",
   "execution_count": 11,
   "id": "782e38b4-e206-4be6-997c-f7c3a10ba7c7",
   "metadata": {},
   "outputs": [
    {
     "data": {
      "text/plain": [
       "[1,\n",
       " 2,\n",
       " 3,\n",
       " 4,\n",
       " 5,\n",
       " 6,\n",
       " 7,\n",
       " 8,\n",
       " 9,\n",
       " 10,\n",
       " 11,\n",
       " 12,\n",
       " 13,\n",
       " 14,\n",
       " 15,\n",
       " 16,\n",
       " 17,\n",
       " 18,\n",
       " 19,\n",
       " 20,\n",
       " 21,\n",
       " 22,\n",
       " 23,\n",
       " 24,\n",
       " 25,\n",
       " 26,\n",
       " 27,\n",
       " 28,\n",
       " 29,\n",
       " 30,\n",
       " 31,\n",
       " 32,\n",
       " 33,\n",
       " 34,\n",
       " 35,\n",
       " 36,\n",
       " 37,\n",
       " 38,\n",
       " 39,\n",
       " 40,\n",
       " 41,\n",
       " 42,\n",
       " 43,\n",
       " 44,\n",
       " 45,\n",
       " 46,\n",
       " 47,\n",
       " 48,\n",
       " 49,\n",
       " 50,\n",
       " 51,\n",
       " 52,\n",
       " 53,\n",
       " 54,\n",
       " 55,\n",
       " 56,\n",
       " 57,\n",
       " 58,\n",
       " 59,\n",
       " 60,\n",
       " 61,\n",
       " 62,\n",
       " 63,\n",
       " 64,\n",
       " 65,\n",
       " 66,\n",
       " 67,\n",
       " 68,\n",
       " 69,\n",
       " 70,\n",
       " 71,\n",
       " 72,\n",
       " 73,\n",
       " 74,\n",
       " 75,\n",
       " 76,\n",
       " 77,\n",
       " 78,\n",
       " 79,\n",
       " 80,\n",
       " 81,\n",
       " 82,\n",
       " 83,\n",
       " 84,\n",
       " 85,\n",
       " 86,\n",
       " 87,\n",
       " 88,\n",
       " 89,\n",
       " 90,\n",
       " 91,\n",
       " 92,\n",
       " 93,\n",
       " 94,\n",
       " 95,\n",
       " 96,\n",
       " 97,\n",
       " 98,\n",
       " 99,\n",
       " 100]"
      ]
     },
     "execution_count": 11,
     "metadata": {},
     "output_type": "execute_result"
    }
   ],
   "source": [
    "\n",
    "[for i in [ i for i in range(1,101) ] if i ]\n",
    " "
   ]
  },
  {
   "cell_type": "code",
   "execution_count": null,
   "id": "7e2415ef-5b17-40ac-9e43-24e55c74bc28",
   "metadata": {},
   "outputs": [],
   "source": []
  },
  {
   "cell_type": "code",
   "execution_count": null,
   "id": "5fc8e818-0850-4fe0-a698-377f5b987a72",
   "metadata": {},
   "outputs": [],
   "source": []
  }
 ],
 "metadata": {
  "kernelspec": {
   "display_name": "Python 3 (ipykernel)",
   "language": "python",
   "name": "python3"
  },
  "language_info": {
   "codemirror_mode": {
    "name": "ipython",
    "version": 3
   },
   "file_extension": ".py",
   "mimetype": "text/x-python",
   "name": "python",
   "nbconvert_exporter": "python",
   "pygments_lexer": "ipython3",
   "version": "3.10.6"
  }
 },
 "nbformat": 4,
 "nbformat_minor": 5
}
